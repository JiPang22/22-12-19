#얇은 디스크에서 높이 z인 곳에서의 potentiel
from numpy import *
from matplotlib import pyplot as plt
low=1;G=6*10**24;a=1;y=[];imax=500
def f(z):
    return 2*pi*low*G*((a**2+z**2)**(1/2)-z)
plt.plot([i for i in range(imax)],[f(z) for z in range(imax)],'x')
plt.xlabel('height');plt.ylabel('potentiel')

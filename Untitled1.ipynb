{
 "cells": [
  {
   "cell_type": "code",
   "execution_count": 37,
   "id": "31264f2b",
   "metadata": {},
   "outputs": [],
   "source": [
    "import numpy as np\n",
    "from matplotlib import pyplot as plt\n",
    "\n",
    "def acc(t,x,v):\n",
    "    #constant\n",
    "    om,gam=1,1\n",
    "    return -om**2*x-2*gam*v\n",
    "\n",
    "def vel(t,x,v):\n",
    "    return v\n",
    "\n",
    "def rk(x0,v0,tmax):   \n",
    "    h=0.01\n",
    "    xdata,vdata,tdata=[x0],[v0],np.linspace(0,tmax*h,h)\n",
    "    for i in range(1001):\n",
    "        t=i*h\n",
    "        \n",
    "        k1x = vel(t, x0, v0)\n",
    "        k1v = acc(t, x0, v0)\n",
    "\n",
    "        k2x = vel(t+h/2, x0+h*k1x/2, v0+h*k1v/2)\n",
    "        k2v = acc(t+h/2, x0+h*k1x/2, v0+h*k1v/2)\n",
    "\n",
    "        k3x = vel(t+h/2, x0+h*k2x/2, v0+h*k2v/2)\n",
    "        k3v = acc(t+h/2, x0+h*k2x/2, v0+h*k2v/2)\n",
    "\n",
    "        k4x = vel(t+h, x0+h*k3x, v0+h*k3v)\n",
    "        k4v = acc(t+h, x0+h*k3x, v0+h*k3v)\n",
    "        \n",
    "        x1 = x0 + h*(k1x + 2*k2x + 2*k3x + k4x)/6\n",
    "        v1 = v0 + h*(k1v + 2*k2v + 2*k3v + k4v)/6\n",
    "        \n",
    "        xdata.append(x1)\n",
    "        vdata.append(v1)\n",
    "        \n",
    "        x0=x1\n",
    "        v0=v1\n",
    "        \n",
    "    return tdata,xdata,vdata\n",
    "def osc():\n",
    "    #initiel con.\n",
    "    tmax=1000\n",
    "    x0,v0=0,1\n",
    "    T,X,V=rk(x0,v0,tmax)\n",
    "    \n",
    "    #plt.plot(T,X)\n",
    "    plt.plot(X,T)\n",
    "    plt.xlabel('time')\n",
    "    plt.ylabel('posotion')"
   ]
  },
  {
   "cell_type": "code",
   "execution_count": 39,
   "id": "1d8b9c5b",
   "metadata": {},
   "outputs": [
    {
     "ename": "NameError",
     "evalue": "name 'linspace' is not defined",
     "output_type": "error",
     "traceback": [
      "\u001b[1;31m---------------------------------------------------------------------------\u001b[0m",
      "\u001b[1;31mNameError\u001b[0m                                 Traceback (most recent call last)",
      "Cell \u001b[1;32mIn[39], line 1\u001b[0m\n\u001b[1;32m----> 1\u001b[0m \u001b[43mlinspace\u001b[49m(\u001b[38;5;241m0\u001b[39m,\u001b[38;5;241m10\u001b[39m,\u001b[38;5;241m0.01\u001b[39m)\n",
      "\u001b[1;31mNameError\u001b[0m: name 'linspace' is not defined"
     ]
    }
   ],
   "source": [
    "linspace(0,10,0.01)"
   ]
  },
  {
   "cell_type": "code",
   "execution_count": null,
   "id": "e86102da",
   "metadata": {},
   "outputs": [],
   "source": []
  }
 ],
 "metadata": {
  "kernelspec": {
   "display_name": "Python 3 (ipykernel)",
   "language": "python",
   "name": "python3"
  },
  "language_info": {
   "codemirror_mode": {
    "name": "ipython",
    "version": 3
   },
   "file_extension": ".py",
   "mimetype": "text/x-python",
   "name": "python",
   "nbconvert_exporter": "python",
   "pygments_lexer": "ipython3",
   "version": "3.9.12"
  }
 },
 "nbformat": 4,
 "nbformat_minor": 5
}
